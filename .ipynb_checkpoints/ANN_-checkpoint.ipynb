{
 "cells": [
  {
   "cell_type": "markdown",
   "metadata": {
    "colab_type": "text",
    "id": "view-in-github"
   },
   "source": [
    "<a href=\"https://colab.research.google.com/github/Jay055/ML_DeepLearning/blob/master/ANN_.ipynb\" target=\"_parent\"><img src=\"https://colab.research.google.com/assets/colab-badge.svg\" alt=\"Open In Colab\"/></a>"
   ]
  },
  {
   "cell_type": "markdown",
   "metadata": {
    "id": "3cbb7fRy-eyr"
   },
   "source": [
    "# ANN_\n"
   ]
  },
  {
   "cell_type": "markdown",
   "metadata": {
    "id": "8sNDnxE2-pwE"
   },
   "source": [
    "### Import Libraries\n",
    "\n",
    ">\n",
    "\n"
   ]
  },
  {
   "cell_type": "code",
   "execution_count": 2,
   "metadata": {
    "id": "lxChR1Rk-umf"
   },
   "outputs": [],
   "source": [
    "import numpy as np\n",
    "import pandas as pd\n",
    "import tensorflow as tf"
   ]
  },
  {
   "cell_type": "code",
   "execution_count": 3,
   "metadata": {
    "colab": {
     "base_uri": "https://localhost:8080/",
     "height": 35
    },
    "id": "uBTqR3nacj0e",
    "outputId": "c762a2d3-2be5-4aa3-ed23-f547b2c88f8f"
   },
   "outputs": [
    {
     "data": {
      "application/vnd.google.colaboratory.intrinsic+json": {
       "type": "string"
      },
      "text/plain": [
       "'2.3.0'"
      ]
     },
     "execution_count": 3,
     "metadata": {
      "tags": []
     },
     "output_type": "execute_result"
    }
   ],
   "source": [
    "tf.__version__"
   ]
  },
  {
   "cell_type": "markdown",
   "metadata": {
    "id": "AG3FQEch-yuA"
   },
   "source": [
    "## Part 1 - Data Preprocessing"
   ]
  },
  {
   "cell_type": "markdown",
   "metadata": {
    "id": "-4zq8Mza_D9O"
   },
   "source": [
    "### Import the dataset"
   ]
  },
  {
   "cell_type": "code",
   "execution_count": 6,
   "metadata": {
    "id": "B9CV13Co_HHM"
   },
   "outputs": [],
   "source": [
    "dataset = pd.read_excel('Folds5x2_pp.xlsx')\n",
    "X = dataset.iloc[:, :-1].values\n",
    "y = dataset.iloc[:, -1].values"
   ]
  },
  {
   "cell_type": "markdown",
   "metadata": {
    "id": "VC6omXel_Up0"
   },
   "source": [
    "### Split dataset into Train and Test data "
   ]
  },
  {
   "cell_type": "code",
   "execution_count": 7,
   "metadata": {
    "id": "L5edeb2r_agx"
   },
   "outputs": [],
   "source": [
    "from sklearn.model_selection import train_test_split\n",
    "X_train, X_test, y_train, y_test = train_test_split(X, y, test_size = 0.2, random_state = 0)"
   ]
  },
  {
   "cell_type": "markdown",
   "metadata": {
    "id": "_mSLlAT9_eyI"
   },
   "source": [
    "## Part 2 - Build the ANN\n",
    "\n",
    "1.   List item\n",
    "2.   List item\n",
    "\n"
   ]
  },
  {
   "cell_type": "markdown",
   "metadata": {
    "id": "CsBULd_f_wLY"
   },
   "source": [
    "### Initializing the ANN"
   ]
  },
  {
   "cell_type": "code",
   "execution_count": 8,
   "metadata": {
    "id": "J6Hd97Ls__Nz"
   },
   "outputs": [],
   "source": [
    "ann = tf.keras.models.Sequential()"
   ]
  },
  {
   "cell_type": "markdown",
   "metadata": {
    "id": "iitAFJS_ABUn"
   },
   "source": [
    "### Adding the input layer and the first hidden layer"
   ]
  },
  {
   "cell_type": "code",
   "execution_count": 9,
   "metadata": {
    "id": "ksO_Vv40AHix"
   },
   "outputs": [],
   "source": [
    "ann.add(tf.keras.layers.Dense(units=6, activation='relu'))"
   ]
  },
  {
   "cell_type": "markdown",
   "metadata": {
    "id": "-lb4kK_wAKbs"
   },
   "source": [
    "### Adding the second hidden layer"
   ]
  },
  {
   "cell_type": "code",
   "execution_count": 10,
   "metadata": {
    "id": "c2357OqEAQOQ"
   },
   "outputs": [],
   "source": [
    "ann.add(tf.keras.layers.Dense(units=6, activation='relu'))"
   ]
  },
  {
   "cell_type": "markdown",
   "metadata": {
    "id": "jwMOmKb3AdBY"
   },
   "source": [
    "### Adding the output layer"
   ]
  },
  {
   "cell_type": "code",
   "execution_count": 11,
   "metadata": {
    "id": "YFATpzsUAkLL"
   },
   "outputs": [],
   "source": [
    "ann.add(tf.keras.layers.Dense(units=1))"
   ]
  },
  {
   "cell_type": "markdown",
   "metadata": {
    "id": "fq7e4fF6A1yy"
   },
   "source": [
    "## Part 3 - Training the ANN"
   ]
  },
  {
   "cell_type": "markdown",
   "metadata": {
    "id": "qDeylAs2An25"
   },
   "source": [
    "### Compiling the ANN"
   ]
  },
  {
   "cell_type": "code",
   "execution_count": 12,
   "metadata": {
    "id": "pesgbWlCAtB4"
   },
   "outputs": [],
   "source": [
    "ann.compile(optimizer = 'adam', loss = 'mean_squared_error')"
   ]
  },
  {
   "cell_type": "markdown",
   "metadata": {
    "id": "YjVuiybYOo7r"
   },
   "source": [
    "### Training the ANN model on the Training set"
   ]
  },
  {
   "cell_type": "code",
   "execution_count": 13,
   "metadata": {
    "colab": {
     "base_uri": "https://localhost:8080/",
     "height": 1000
    },
    "id": "c_vV-tiiA5zn",
    "outputId": "c2547c2b-6ff4-4154-ebe3-eb180139c4f1"
   },
   "outputs": [
    {
     "name": "stdout",
     "output_type": "stream",
     "text": [
      "Epoch 1/100\n",
      "240/240 [==============================] - 0s 891us/step - loss: 24675.8535\n",
      "Epoch 2/100\n",
      "240/240 [==============================] - 0s 879us/step - loss: 204.4355\n",
      "Epoch 3/100\n",
      "240/240 [==============================] - 0s 821us/step - loss: 194.7770\n",
      "Epoch 4/100\n",
      "240/240 [==============================] - 0s 833us/step - loss: 190.6048\n",
      "Epoch 5/100\n",
      "240/240 [==============================] - 0s 811us/step - loss: 185.8618\n",
      "Epoch 6/100\n",
      "240/240 [==============================] - 0s 873us/step - loss: 180.0346\n",
      "Epoch 7/100\n",
      "240/240 [==============================] - 0s 882us/step - loss: 173.7448\n",
      "Epoch 8/100\n",
      "240/240 [==============================] - 0s 898us/step - loss: 166.6284\n",
      "Epoch 9/100\n",
      "240/240 [==============================] - 0s 809us/step - loss: 159.1266\n",
      "Epoch 10/100\n",
      "240/240 [==============================] - 0s 822us/step - loss: 150.9070\n",
      "Epoch 11/100\n",
      "240/240 [==============================] - 0s 836us/step - loss: 142.3632\n",
      "Epoch 12/100\n",
      "240/240 [==============================] - 0s 871us/step - loss: 133.3204\n",
      "Epoch 13/100\n",
      "240/240 [==============================] - 0s 816us/step - loss: 124.3067\n",
      "Epoch 14/100\n",
      "240/240 [==============================] - 0s 825us/step - loss: 114.9088\n",
      "Epoch 15/100\n",
      "240/240 [==============================] - 0s 820us/step - loss: 106.0396\n",
      "Epoch 16/100\n",
      "240/240 [==============================] - 0s 885us/step - loss: 96.8957\n",
      "Epoch 17/100\n",
      "240/240 [==============================] - 0s 795us/step - loss: 88.3063\n",
      "Epoch 18/100\n",
      "240/240 [==============================] - 0s 827us/step - loss: 80.3883\n",
      "Epoch 19/100\n",
      "240/240 [==============================] - 0s 834us/step - loss: 72.7180\n",
      "Epoch 20/100\n",
      "240/240 [==============================] - 0s 826us/step - loss: 65.7636\n",
      "Epoch 21/100\n",
      "240/240 [==============================] - 0s 832us/step - loss: 59.8181\n",
      "Epoch 22/100\n",
      "240/240 [==============================] - 0s 893us/step - loss: 54.7378\n",
      "Epoch 23/100\n",
      "240/240 [==============================] - 0s 789us/step - loss: 50.0338\n",
      "Epoch 24/100\n",
      "240/240 [==============================] - 0s 853us/step - loss: 46.6223\n",
      "Epoch 25/100\n",
      "240/240 [==============================] - 0s 804us/step - loss: 43.6531\n",
      "Epoch 26/100\n",
      "240/240 [==============================] - 0s 963us/step - loss: 40.9440\n",
      "Epoch 27/100\n",
      "240/240 [==============================] - 0s 847us/step - loss: 38.6805\n",
      "Epoch 28/100\n",
      "240/240 [==============================] - 0s 802us/step - loss: 36.9543\n",
      "Epoch 29/100\n",
      "240/240 [==============================] - 0s 858us/step - loss: 35.0293\n",
      "Epoch 30/100\n",
      "240/240 [==============================] - 0s 839us/step - loss: 34.0814\n",
      "Epoch 31/100\n",
      "240/240 [==============================] - 0s 885us/step - loss: 32.9179\n",
      "Epoch 32/100\n",
      "240/240 [==============================] - 0s 824us/step - loss: 31.9334\n",
      "Epoch 33/100\n",
      "240/240 [==============================] - 0s 835us/step - loss: 31.3084\n",
      "Epoch 34/100\n",
      "240/240 [==============================] - 0s 804us/step - loss: 30.9495\n",
      "Epoch 35/100\n",
      "240/240 [==============================] - 0s 836us/step - loss: 30.9106\n",
      "Epoch 36/100\n",
      "240/240 [==============================] - 0s 879us/step - loss: 29.7493\n",
      "Epoch 37/100\n",
      "240/240 [==============================] - 0s 830us/step - loss: 29.7442\n",
      "Epoch 38/100\n",
      "240/240 [==============================] - 0s 802us/step - loss: 29.2604\n",
      "Epoch 39/100\n",
      "240/240 [==============================] - 0s 833us/step - loss: 29.2873\n",
      "Epoch 40/100\n",
      "240/240 [==============================] - 0s 807us/step - loss: 28.6696\n",
      "Epoch 41/100\n",
      "240/240 [==============================] - 0s 839us/step - loss: 28.5010\n",
      "Epoch 42/100\n",
      "240/240 [==============================] - 0s 807us/step - loss: 28.5297\n",
      "Epoch 43/100\n",
      "240/240 [==============================] - 0s 814us/step - loss: 28.3531\n",
      "Epoch 44/100\n",
      "240/240 [==============================] - 0s 805us/step - loss: 28.6389\n",
      "Epoch 45/100\n",
      "240/240 [==============================] - 0s 885us/step - loss: 28.0599\n",
      "Epoch 46/100\n",
      "240/240 [==============================] - 0s 823us/step - loss: 27.8834\n",
      "Epoch 47/100\n",
      "240/240 [==============================] - 0s 809us/step - loss: 27.9013\n",
      "Epoch 48/100\n",
      "240/240 [==============================] - 0s 838us/step - loss: 27.8979\n",
      "Epoch 49/100\n",
      "240/240 [==============================] - 0s 813us/step - loss: 27.6517\n",
      "Epoch 50/100\n",
      "240/240 [==============================] - 0s 833us/step - loss: 27.0848\n",
      "Epoch 51/100\n",
      "240/240 [==============================] - 0s 828us/step - loss: 27.6179\n",
      "Epoch 52/100\n",
      "240/240 [==============================] - 0s 799us/step - loss: 27.3459\n",
      "Epoch 53/100\n",
      "240/240 [==============================] - 0s 815us/step - loss: 27.0321\n",
      "Epoch 54/100\n",
      "240/240 [==============================] - 0s 814us/step - loss: 27.4091\n",
      "Epoch 55/100\n",
      "240/240 [==============================] - 0s 919us/step - loss: 27.1394\n",
      "Epoch 56/100\n",
      "240/240 [==============================] - 0s 834us/step - loss: 27.8340\n",
      "Epoch 57/100\n",
      "240/240 [==============================] - 0s 868us/step - loss: 26.9882\n",
      "Epoch 58/100\n",
      "240/240 [==============================] - 0s 810us/step - loss: 27.1346\n",
      "Epoch 59/100\n",
      "240/240 [==============================] - 0s 861us/step - loss: 26.6872\n",
      "Epoch 60/100\n",
      "240/240 [==============================] - 0s 885us/step - loss: 26.8122\n",
      "Epoch 61/100\n",
      "240/240 [==============================] - 0s 908us/step - loss: 26.8768\n",
      "Epoch 62/100\n",
      "240/240 [==============================] - 0s 813us/step - loss: 27.4848\n",
      "Epoch 63/100\n",
      "240/240 [==============================] - 0s 819us/step - loss: 26.9392\n",
      "Epoch 64/100\n",
      "240/240 [==============================] - 0s 808us/step - loss: 26.7930\n",
      "Epoch 65/100\n",
      "240/240 [==============================] - 0s 891us/step - loss: 27.2076\n",
      "Epoch 66/100\n",
      "240/240 [==============================] - 0s 863us/step - loss: 26.8693\n",
      "Epoch 67/100\n",
      "240/240 [==============================] - 0s 861us/step - loss: 26.5706\n",
      "Epoch 68/100\n",
      "240/240 [==============================] - 0s 803us/step - loss: 26.6148\n",
      "Epoch 69/100\n",
      "240/240 [==============================] - 0s 879us/step - loss: 27.6431\n",
      "Epoch 70/100\n",
      "240/240 [==============================] - 0s 835us/step - loss: 26.5383\n",
      "Epoch 71/100\n",
      "240/240 [==============================] - 0s 826us/step - loss: 26.3770\n",
      "Epoch 72/100\n",
      "240/240 [==============================] - 0s 822us/step - loss: 26.6677\n",
      "Epoch 73/100\n",
      "240/240 [==============================] - 0s 824us/step - loss: 26.2764\n",
      "Epoch 74/100\n",
      "240/240 [==============================] - 0s 865us/step - loss: 26.6129\n",
      "Epoch 75/100\n",
      "240/240 [==============================] - 0s 977us/step - loss: 26.6245\n",
      "Epoch 76/100\n",
      "240/240 [==============================] - 0s 831us/step - loss: 26.2929\n",
      "Epoch 77/100\n",
      "240/240 [==============================] - 0s 946us/step - loss: 26.8676\n",
      "Epoch 78/100\n",
      "240/240 [==============================] - 0s 823us/step - loss: 26.7761\n",
      "Epoch 79/100\n",
      "240/240 [==============================] - 0s 810us/step - loss: 26.9098\n",
      "Epoch 80/100\n",
      "240/240 [==============================] - 0s 869us/step - loss: 26.4365\n",
      "Epoch 81/100\n",
      "240/240 [==============================] - 0s 823us/step - loss: 26.9682\n",
      "Epoch 82/100\n",
      "240/240 [==============================] - 0s 807us/step - loss: 26.5543\n",
      "Epoch 83/100\n",
      "240/240 [==============================] - 0s 825us/step - loss: 26.4114\n",
      "Epoch 84/100\n",
      "240/240 [==============================] - 0s 836us/step - loss: 26.2678\n",
      "Epoch 85/100\n",
      "240/240 [==============================] - 0s 839us/step - loss: 26.9149\n",
      "Epoch 86/100\n",
      "240/240 [==============================] - 0s 812us/step - loss: 26.4574\n",
      "Epoch 87/100\n",
      "240/240 [==============================] - 0s 800us/step - loss: 26.7394\n",
      "Epoch 88/100\n",
      "240/240 [==============================] - 0s 829us/step - loss: 26.4776\n",
      "Epoch 89/100\n",
      "240/240 [==============================] - 0s 835us/step - loss: 26.4281\n",
      "Epoch 90/100\n",
      "240/240 [==============================] - 0s 877us/step - loss: 26.2748\n",
      "Epoch 91/100\n",
      "240/240 [==============================] - 0s 801us/step - loss: 26.4108\n",
      "Epoch 92/100\n",
      "240/240 [==============================] - 0s 839us/step - loss: 26.3560\n",
      "Epoch 93/100\n",
      "240/240 [==============================] - 0s 805us/step - loss: 26.5664\n",
      "Epoch 94/100\n",
      "240/240 [==============================] - 0s 865us/step - loss: 26.6433\n",
      "Epoch 95/100\n",
      "240/240 [==============================] - 0s 812us/step - loss: 26.6983\n",
      "Epoch 96/100\n",
      "240/240 [==============================] - 0s 873us/step - loss: 26.3540\n",
      "Epoch 97/100\n",
      "240/240 [==============================] - 0s 828us/step - loss: 26.3349\n",
      "Epoch 98/100\n",
      "240/240 [==============================] - 0s 834us/step - loss: 26.6013\n",
      "Epoch 99/100\n",
      "240/240 [==============================] - 0s 876us/step - loss: 27.1669\n",
      "Epoch 100/100\n",
      "240/240 [==============================] - 0s 817us/step - loss: 26.5238\n"
     ]
    },
    {
     "data": {
      "text/plain": [
       "<tensorflow.python.keras.callbacks.History at 0x7f485a3935c0>"
      ]
     },
     "execution_count": 13,
     "metadata": {
      "tags": []
     },
     "output_type": "execute_result"
    }
   ],
   "source": [
    "ann.fit(X_train, y_train, batch_size = 32, epochs = 100)"
   ]
  },
  {
   "cell_type": "markdown",
   "metadata": {
    "id": "0H0zKKNEBLD5"
   },
   "source": [
    "### Predicting the results of the Test set"
   ]
  },
  {
   "cell_type": "code",
   "execution_count": 14,
   "metadata": {
    "colab": {
     "base_uri": "https://localhost:8080/",
     "height": 136
    },
    "id": "IA0yApEmBG1X",
    "outputId": "9f1d955f-249b-4605-ec02-347a46272559"
   },
   "outputs": [
    {
     "name": "stdout",
     "output_type": "stream",
     "text": [
      "[[431.32 431.23]\n",
      " [462.44 460.01]\n",
      " [465.97 461.14]\n",
      " ...\n",
      " [473.13 473.26]\n",
      " [440.09 438.  ]\n",
      " [459.22 463.28]]\n"
     ]
    }
   ],
   "source": [
    "y_pred = ann.predict(X_test)\n",
    "np.set_printoptions(precision=2)\n",
    "print(np.concatenate((y_pred.reshape(len(y_pred),1), y_test.reshape(len(y_test),1)),1))"
   ]
  },
  {
   "cell_type": "code",
   "execution_count": null,
   "metadata": {
    "id": "Nk4vu8sssATI"
   },
   "outputs": [],
   "source": []
  }
 ],
 "metadata": {
  "colab": {
   "collapsed_sections": [],
   "include_colab_link": true,
   "name": "ANN_",
   "provenance": [],
   "toc_visible": true
  },
  "kernelspec": {
   "display_name": "Python 3",
   "language": "python",
   "name": "python3"
  },
  "language_info": {
   "codemirror_mode": {
    "name": "ipython",
    "version": 3
   },
   "file_extension": ".py",
   "mimetype": "text/x-python",
   "name": "python",
   "nbconvert_exporter": "python",
   "pygments_lexer": "ipython3",
   "version": "3.7.7"
  }
 },
 "nbformat": 4,
 "nbformat_minor": 1
}
