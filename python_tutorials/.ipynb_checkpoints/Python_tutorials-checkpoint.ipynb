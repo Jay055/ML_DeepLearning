{
 "cells": [
  {
   "cell_type": "code",
   "execution_count": null,
   "metadata": {},
   "outputs": [],
   "source": [
    "## Strings "
   ]
  },
  {
   "cell_type": "code",
   "execution_count": 18,
   "metadata": {},
   "outputs": [],
   "source": [
    "message = \"\"\"Bobby's wor\"ld is nice.\"\"\""
   ]
  },
  {
   "cell_type": "code",
   "execution_count": 6,
   "metadata": {},
   "outputs": [
    {
     "name": "stdout",
     "output_type": "stream",
     "text": [
      "Bobby's wor\"\n",
      "ld is nice.\n"
     ]
    }
   ],
   "source": [
    "print(message)"
   ]
  },
  {
   "cell_type": "code",
   "execution_count": 7,
   "metadata": {},
   "outputs": [
    {
     "name": "stdout",
     "output_type": "stream",
     "text": [
      "24\n"
     ]
    }
   ],
   "source": [
    "print(len(message))"
   ]
  },
  {
   "cell_type": "code",
   "execution_count": 11,
   "metadata": {},
   "outputs": [
    {
     "name": "stdout",
     "output_type": "stream",
     "text": [
      "B\n",
      "Bobby\n",
      "Bobby\n",
      "s wor\"\n",
      "ld is nice.\n"
     ]
    }
   ],
   "source": [
    "print(message[0])\n",
    "print(message[0:5])\n",
    "print(message[:5])\n",
    "print(message[6:])\n"
   ]
  },
  {
   "cell_type": "code",
   "execution_count": 14,
   "metadata": {},
   "outputs": [
    {
     "name": "stdout",
     "output_type": "stream",
     "text": [
      "bobby's wor\"\n",
      "ld is nice.\n",
      "BOBBY'S WOR\"\n",
      "LD IS NICE.\n",
      "2\n"
     ]
    }
   ],
   "source": [
    "# Method is a function that belong\n",
    "print(message.lower())\n",
    "print(message.upper())\n",
    "print(message.count(\"b\"))\n",
    "print(message.find('nice'))\n",
    "\n",
    "message.replace('World', 'Universe')"
   ]
  },
  {
   "cell_type": "code",
   "execution_count": 15,
   "metadata": {},
   "outputs": [],
   "source": [
    "new_message = message.replace('World', 'Universe')"
   ]
  },
  {
   "cell_type": "code",
   "execution_count": 17,
   "metadata": {},
   "outputs": [
    {
     "name": "stdout",
     "output_type": "stream",
     "text": [
      "Bobby's wor\"\n",
      "ld is nice.\n"
     ]
    }
   ],
   "source": [
    "print(message)"
   ]
  },
  {
   "cell_type": "code",
   "execution_count": 19,
   "metadata": {},
   "outputs": [],
   "source": [
    "# Using formated strings\n",
    "greeting= 'hello'\n",
    "name = 'mike'\n",
    "final = greeting + ' ' + name\n",
    "\n",
    "\n",
    "final \n"
   ]
  },
  {
   "cell_type": "code",
   "execution_count": 22,
   "metadata": {},
   "outputs": [
    {
     "ename": "SyntaxError",
     "evalue": "EOL while scanning string literal (<ipython-input-22-5371c7290935>, line 1)",
     "output_type": "error",
     "traceback": [
      "\u001b[0;36m  File \u001b[0;32m\"<ipython-input-22-5371c7290935>\"\u001b[0;36m, line \u001b[0;32m1\u001b[0m\n\u001b[0;31m    final = f'{greeting}, {name}\u001b[0m\n\u001b[0m                                 ^\u001b[0m\n\u001b[0;31mSyntaxError\u001b[0m\u001b[0;31m:\u001b[0m EOL while scanning string literal\n"
     ]
    }
   ],
   "source": [
    "final = f'{greeting}, {name} "
   ]
  },
  {
   "cell_type": "code",
   "execution_count": 23,
   "metadata": {},
   "outputs": [
    {
     "name": "stdout",
     "output_type": "stream",
     "text": [
      "My name is Mike Jordan\n"
     ]
    }
   ],
   "source": [
    "first_name = 'Mike'\n",
    "last_name = 'Jordan'\n",
    "\n",
    "sentence = 'My name is {} {}'.format(first_name, last_name)\n",
    "print(sentence)"
   ]
  },
  {
   "cell_type": "code",
   "execution_count": 27,
   "metadata": {},
   "outputs": [
    {
     "name": "stdout",
     "output_type": "stream",
     "text": [
      "My name is MIKE Jordan\n"
     ]
    }
   ],
   "source": [
    "sentence1 = f'My name is {first_name.upper()} {last_name}'\n",
    "print(sentence1)"
   ]
  },
  {
   "cell_type": "code",
   "execution_count": 29,
   "metadata": {},
   "outputs": [],
   "source": [
    "person = {'name': 'Jenn', 'age': 23}\n",
    "# Alternate between single and double quotes to aviod problems with the string\n",
    "sentence2 = f\"My name is {person['name']} and I am {person['age']} years old\""
   ]
  },
  {
   "cell_type": "code",
   "execution_count": null,
   "metadata": {},
   "outputs": [],
   "source": []
  }
 ],
 "metadata": {
  "kernelspec": {
   "display_name": "Python 3",
   "language": "python",
   "name": "python3"
  },
  "language_info": {
   "codemirror_mode": {
    "name": "ipython",
    "version": 3
   },
   "file_extension": ".py",
   "mimetype": "text/x-python",
   "name": "python",
   "nbconvert_exporter": "python",
   "pygments_lexer": "ipython3",
   "version": "3.7.7"
  }
 },
 "nbformat": 4,
 "nbformat_minor": 4
}
