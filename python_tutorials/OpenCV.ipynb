{
 "cells": [
  {
   "cell_type": "code",
   "execution_count": null,
   "metadata": {},
   "outputs": [],
   "source": [
    "import cv2 as cv\n",
    "import numpy as np\n"
   ]
  },
  {
   "cell_type": "code",
   "execution_count": null,
   "metadata": {},
   "outputs": [],
   "source": [
    "# read image and set thresholds \n",
    "img = cv.imread('gradient.png',0)\n",
    "# pass in the image, threshold value, max, type of threshold\n",
    "_, th1 = cv.threshold(img, 50, 255, cv.THRESH_BINARY)\n",
    "_, th2 = cv.threshold(img, 200, 255, cv.THRESH_BINARY_INV)\n",
    "_, th3 = cv.threshold(img, 127, 255, cv.THRESH_TRUNC)\n",
    "_, th4 = cv.threshold(img, 127, 255, cv.THRESH_TOZERO)\n",
    "_, th5 = cv.threshold(img, 127, 255, cv.THRESH_TOZERO_INV)\n",
    "\n",
    "\n",
    "cv.imshow(\"Image\", img)\n",
    "cv.imshow(\"th1\", th1)\n",
    "cv.imshow(\"th2\", th2)\n",
    "cv.imshow(\"th3\", th3)\n",
    "cv.imshow(\"th4\", th4)\n",
    "cv.imshow(\"th5\", th5)\n",
    "\n",
    "cv.waitKey(0)\n",
    "cv.destroyAllWindows()"
   ]
  },
  {
   "cell_type": "code",
   "execution_count": null,
   "metadata": {},
   "outputs": [],
   "source": [
    "# add pictures\n",
    "# resize the images \n",
    "img = cv2.resize(img, (521,512))\n",
    "img2 = cv2.resize(img2, (521,512))\n",
    "\n",
    "added_image = cv2.add(img,img2)\n",
    "\n",
    "# add weighted, different weights to the images\n",
    "added_image = cv2.addWeighted(img,.9,img2,.1,0)\n",
    "\n",
    "\n",
    "# region of interest \n",
    "#get the ball \n",
    "ball = img[280:340, 330:390]\n",
    "# paste the ball in the image\n",
    "img[273:333,100:160] = ball\n",
    "\n",
    "\n"
   ]
  },
  {
   "cell_type": "code",
   "execution_count": null,
   "metadata": {},
   "outputs": [],
   "source": [
    "# create an image with zeros \n",
    "img1 = np.zeros((250, 500, 3), np.uint8)\n",
    "# create a white, (200-100) - dimension of rectange, color, thickness -1- filled with white color)\n",
    "img1 = cv2.rectangle(img1,(200, 0), (300, 100), (255, 255, 255), -1)\n",
    "img2 = cv2.imread(\"image_1.png\")\n",
    "\n",
    "\n",
    "\n",
    "bitAnd = cv2.bitwise_and(img2, img1)\n",
    "bitOr = cv2.bitwise_or(img2, img1)\n",
    "bitXor = cv2.bitwise_xor(img1, img2)\n",
    "bitNot1 = cv2.bitwise_not(img1)\n",
    "bitNot2 = cv2.bitwise_not(img2)\n",
    "\n",
    "cv2.imshow(\"img1\", img1)\n",
    "cv2.imshow(\"img2\", img2)\n",
    "cv2.imshow('bitAnd', bitAnd)\n",
    "cv2.imshow('bitOr', bitOr)\n",
    "cv2.imshow('bitXor', bitXor)\n",
    "cv2.imshow('bitNot1', bitNot1)\n",
    "cv2.imshow('bitNot2', bitNot2)\n",
    "\n",
    "cv2.waitKey(0)\n",
    "cv2.destroyAllWindows()"
   ]
  }
 ],
 "metadata": {
  "kernelspec": {
   "display_name": "Python 3",
   "language": "python",
   "name": "python3"
  },
  "language_info": {
   "codemirror_mode": {
    "name": "ipython",
    "version": 3
   },
   "file_extension": ".py",
   "mimetype": "text/x-python",
   "name": "python",
   "nbconvert_exporter": "python",
   "pygments_lexer": "ipython3",
   "version": "3.7.7"
  }
 },
 "nbformat": 4,
 "nbformat_minor": 4
}
