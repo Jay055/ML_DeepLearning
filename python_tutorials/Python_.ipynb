{
 "cells": [
  {
   "cell_type": "code",
   "execution_count": null,
   "metadata": {},
   "outputs": [],
   "source": [
    "## Strings "
   ]
  },
  {
   "cell_type": "code",
   "execution_count": 18,
   "metadata": {},
   "outputs": [],
   "source": [
    "message = \"\"\"Bobby's wor\"ld is nice.\"\"\""
   ]
  },
  {
   "cell_type": "code",
   "execution_count": 6,
   "metadata": {},
   "outputs": [
    {
     "name": "stdout",
     "output_type": "stream",
     "text": [
      "Bobby's wor\"\n",
      "ld is nice.\n"
     ]
    }
   ],
   "source": [
    "print(message)"
   ]
  },
  {
   "cell_type": "code",
   "execution_count": 7,
   "metadata": {},
   "outputs": [
    {
     "name": "stdout",
     "output_type": "stream",
     "text": [
      "24\n"
     ]
    }
   ],
   "source": [
    "print(len(message))"
   ]
  },
  {
   "cell_type": "code",
   "execution_count": 11,
   "metadata": {},
   "outputs": [
    {
     "name": "stdout",
     "output_type": "stream",
     "text": [
      "B\n",
      "Bobby\n",
      "Bobby\n",
      "s wor\"\n",
      "ld is nice.\n"
     ]
    }
   ],
   "source": [
    "print(message[0])\n",
    "print(message[0:5])\n",
    "print(message[:5])\n",
    "print(message[6:])\n"
   ]
  },
  {
   "cell_type": "code",
   "execution_count": 14,
   "metadata": {},
   "outputs": [
    {
     "name": "stdout",
     "output_type": "stream",
     "text": [
      "bobby's wor\"\n",
      "ld is nice.\n",
      "BOBBY'S WOR\"\n",
      "LD IS NICE.\n",
      "2\n"
     ]
    }
   ],
   "source": [
    "# Method is a function that belong\n",
    "print(message.lower())\n",
    "print(message.upper())\n",
    "print(message.count(\"b\"))\n",
    "print(message.find('nice'))\n",
    "\n",
    "message.replace('World', 'Universe')"
   ]
  },
  {
   "cell_type": "code",
   "execution_count": 15,
   "metadata": {},
   "outputs": [],
   "source": [
    "new_message = message.replace('World', 'Universe')"
   ]
  },
  {
   "cell_type": "code",
   "execution_count": 17,
   "metadata": {},
   "outputs": [
    {
     "name": "stdout",
     "output_type": "stream",
     "text": [
      "Bobby's wor\"\n",
      "ld is nice.\n"
     ]
    }
   ],
   "source": [
    "print(message)"
   ]
  },
  {
   "cell_type": "code",
   "execution_count": 19,
   "metadata": {},
   "outputs": [],
   "source": [
    "# Using formated strings\n",
    "greeting= 'hello'\n",
    "name = 'mike'\n",
    "final = greeting + ' ' + name\n",
    "\n",
    "\n",
    "final \n"
   ]
  },
  {
   "cell_type": "code",
   "execution_count": 22,
   "metadata": {},
   "outputs": [
    {
     "ename": "SyntaxError",
     "evalue": "EOL while scanning string literal (<ipython-input-22-5371c7290935>, line 1)",
     "output_type": "error",
     "traceback": [
      "\u001b[0;36m  File \u001b[0;32m\"<ipython-input-22-5371c7290935>\"\u001b[0;36m, line \u001b[0;32m1\u001b[0m\n\u001b[0;31m    final = f'{greeting}, {name}\u001b[0m\n\u001b[0m                                 ^\u001b[0m\n\u001b[0;31mSyntaxError\u001b[0m\u001b[0;31m:\u001b[0m EOL while scanning string literal\n"
     ]
    }
   ],
   "source": [
    "final = f.'{greeting}, {name} "
   ]
  },
  {
   "cell_type": "code",
   "execution_count": 23,
   "metadata": {},
   "outputs": [
    {
     "name": "stdout",
     "output_type": "stream",
     "text": [
      "My name is Mike Jordan\n"
     ]
    }
   ],
   "source": [
    "first_name = 'Mike'\n",
    "last_name = 'Jordan'\n",
    "\n",
    "sentence = 'My name is {} {}'.format(first_name, last_name)\n",
    "print(sentence)"
   ]
  },
  {
   "cell_type": "code",
   "execution_count": 27,
   "metadata": {},
   "outputs": [
    {
     "name": "stdout",
     "output_type": "stream",
     "text": [
      "My name is MIKE Jordan\n"
     ]
    }
   ],
   "source": [
    "sentence1 = f'My name is {first_name.upper()} {last_name}'\n",
    "print(sentence1)"
   ]
  },
  {
   "cell_type": "code",
   "execution_count": 29,
   "metadata": {},
   "outputs": [],
   "source": [
    "person = {'name': 'Jenn', 'age': 23}\n",
    "# Alternate between single and double quotes to aviod problems with the string\n",
    "sentence2 = f\"My name is {person['name']} and I am {person['age']} years old\"\n",
    "print(sentence2)\n",
    "# We can also do calculation  with the f string \n",
    "# Also loo "
   ]
  },
  {
   "cell_type": "code",
   "execution_count": 40,
   "metadata": {},
   "outputs": [
    {
     "name": "stdout",
     "output_type": "stream",
     "text": [
      "Jane is 01 years old and pi is = to 3.1413\n",
      "Jane is 02 years old and pi is = to 3.1413\n",
      "Jane is 03 years old and pi is = to 3.1413\n",
      "Jane is 04 years old and pi is = to 3.1413\n",
      "Jane is 05 years old and pi is = to 3.1413\n",
      "Jane is 06 years old and pi is = to 3.1413\n",
      "Jane is 07 years old and pi is = to 3.1413\n",
      "Jane is 08 years old and pi is = to 3.1413\n",
      "Jane is 09 years old and pi is = to 3.1413\n",
      "Jane is 10 years old and pi is = to 3.1413\n"
     ]
    }
   ],
   "source": [
    "for  i in range (1,11): \n",
    "    p = 3.1412632\n",
    "    sentence4 = f'Jane is {i:02} years old and pi is = to {p:.4f}'\n",
    "    \n",
    "    #02 for padding\n",
    "    print(sentence4)"
   ]
  },
  {
   "cell_type": "code",
   "execution_count": 46,
   "metadata": {},
   "outputs": [
    {
     "name": "stdout",
     "output_type": "stream",
     "text": [
      "Jenn has a birthday on January 01, 1990\n"
     ]
    }
   ],
   "source": [
    "\n",
    "from datetime import datetime \n",
    "# We can check the date and time examples.\n",
    "birthday = datetime(1990, 1, 1)\n",
    "\n",
    "sentence = f'Jenn has a birthday on {birthday:%B %d, %Y}'\n",
    "sentence = f'Jenn has a birthday on {birthday:%B %d, %Y}'\n",
    "print(sentence)"
   ]
  },
  {
   "cell_type": "code",
   "execution_count": 49,
   "metadata": {},
   "outputs": [
    {
     "name": "stdout",
     "output_type": "stream",
     "text": [
      "Help on class str in module builtins:\n",
      "\n",
      "class str(object)\n",
      " |  str(object='') -> str\n",
      " |  str(bytes_or_buffer[, encoding[, errors]]) -> str\n",
      " |  \n",
      " |  Create a new string object from the given object. If encoding or\n",
      " |  errors is specified, then the object must expose a data buffer\n",
      " |  that will be decoded using the given encoding and error handler.\n",
      " |  Otherwise, returns the result of object.__str__() (if defined)\n",
      " |  or repr(object).\n",
      " |  encoding defaults to sys.getdefaultencoding().\n",
      " |  errors defaults to 'strict'.\n",
      " |  \n",
      " |  Methods defined here:\n",
      " |  \n",
      " |  __add__(self, value, /)\n",
      " |      Return self+value.\n",
      " |  \n",
      " |  __contains__(self, key, /)\n",
      " |      Return key in self.\n",
      " |  \n",
      " |  __eq__(self, value, /)\n",
      " |      Return self==value.\n",
      " |  \n",
      " |  __format__(self, format_spec, /)\n",
      " |      Return a formatted version of the string as described by format_spec.\n",
      " |  \n",
      " |  __ge__(self, value, /)\n",
      " |      Return self>=value.\n",
      " |  \n",
      " |  __getattribute__(self, name, /)\n",
      " |      Return getattr(self, name).\n",
      " |  \n",
      " |  __getitem__(self, key, /)\n",
      " |      Return self[key].\n",
      " |  \n",
      " |  __getnewargs__(...)\n",
      " |  \n",
      " |  __gt__(self, value, /)\n",
      " |      Return self>value.\n",
      " |  \n",
      " |  __hash__(self, /)\n",
      " |      Return hash(self).\n",
      " |  \n",
      " |  __iter__(self, /)\n",
      " |      Implement iter(self).\n",
      " |  \n",
      " |  __le__(self, value, /)\n",
      " |      Return self<=value.\n",
      " |  \n",
      " |  __len__(self, /)\n",
      " |      Return len(self).\n",
      " |  \n",
      " |  __lt__(self, value, /)\n",
      " |      Return self<value.\n",
      " |  \n",
      " |  __mod__(self, value, /)\n",
      " |      Return self%value.\n",
      " |  \n",
      " |  __mul__(self, value, /)\n",
      " |      Return self*value.\n",
      " |  \n",
      " |  __ne__(self, value, /)\n",
      " |      Return self!=value.\n",
      " |  \n",
      " |  __repr__(self, /)\n",
      " |      Return repr(self).\n",
      " |  \n",
      " |  __rmod__(self, value, /)\n",
      " |      Return value%self.\n",
      " |  \n",
      " |  __rmul__(self, value, /)\n",
      " |      Return value*self.\n",
      " |  \n",
      " |  __sizeof__(self, /)\n",
      " |      Return the size of the string in memory, in bytes.\n",
      " |  \n",
      " |  __str__(self, /)\n",
      " |      Return str(self).\n",
      " |  \n",
      " |  capitalize(self, /)\n",
      " |      Return a capitalized version of the string.\n",
      " |      \n",
      " |      More specifically, make the first character have upper case and the rest lower\n",
      " |      case.\n",
      " |  \n",
      " |  casefold(self, /)\n",
      " |      Return a version of the string suitable for caseless comparisons.\n",
      " |  \n",
      " |  center(self, width, fillchar=' ', /)\n",
      " |      Return a centered string of length width.\n",
      " |      \n",
      " |      Padding is done using the specified fill character (default is a space).\n",
      " |  \n",
      " |  count(...)\n",
      " |      S.count(sub[, start[, end]]) -> int\n",
      " |      \n",
      " |      Return the number of non-overlapping occurrences of substring sub in\n",
      " |      string S[start:end].  Optional arguments start and end are\n",
      " |      interpreted as in slice notation.\n",
      " |  \n",
      " |  encode(self, /, encoding='utf-8', errors='strict')\n",
      " |      Encode the string using the codec registered for encoding.\n",
      " |      \n",
      " |      encoding\n",
      " |        The encoding in which to encode the string.\n",
      " |      errors\n",
      " |        The error handling scheme to use for encoding errors.\n",
      " |        The default is 'strict' meaning that encoding errors raise a\n",
      " |        UnicodeEncodeError.  Other possible values are 'ignore', 'replace' and\n",
      " |        'xmlcharrefreplace' as well as any other name registered with\n",
      " |        codecs.register_error that can handle UnicodeEncodeErrors.\n",
      " |  \n",
      " |  endswith(...)\n",
      " |      S.endswith(suffix[, start[, end]]) -> bool\n",
      " |      \n",
      " |      Return True if S ends with the specified suffix, False otherwise.\n",
      " |      With optional start, test S beginning at that position.\n",
      " |      With optional end, stop comparing S at that position.\n",
      " |      suffix can also be a tuple of strings to try.\n",
      " |  \n",
      " |  expandtabs(self, /, tabsize=8)\n",
      " |      Return a copy where all tab characters are expanded using spaces.\n",
      " |      \n",
      " |      If tabsize is not given, a tab size of 8 characters is assumed.\n",
      " |  \n",
      " |  find(...)\n",
      " |      S.find(sub[, start[, end]]) -> int\n",
      " |      \n",
      " |      Return the lowest index in S where substring sub is found,\n",
      " |      such that sub is contained within S[start:end].  Optional\n",
      " |      arguments start and end are interpreted as in slice notation.\n",
      " |      \n",
      " |      Return -1 on failure.\n",
      " |  \n",
      " |  format(...)\n",
      " |      S.format(*args, **kwargs) -> str\n",
      " |      \n",
      " |      Return a formatted version of S, using substitutions from args and kwargs.\n",
      " |      The substitutions are identified by braces ('{' and '}').\n",
      " |  \n",
      " |  format_map(...)\n",
      " |      S.format_map(mapping) -> str\n",
      " |      \n",
      " |      Return a formatted version of S, using substitutions from mapping.\n",
      " |      The substitutions are identified by braces ('{' and '}').\n",
      " |  \n",
      " |  index(...)\n",
      " |      S.index(sub[, start[, end]]) -> int\n",
      " |      \n",
      " |      Return the lowest index in S where substring sub is found, \n",
      " |      such that sub is contained within S[start:end].  Optional\n",
      " |      arguments start and end are interpreted as in slice notation.\n",
      " |      \n",
      " |      Raises ValueError when the substring is not found.\n",
      " |  \n",
      " |  isalnum(self, /)\n",
      " |      Return True if the string is an alpha-numeric string, False otherwise.\n",
      " |      \n",
      " |      A string is alpha-numeric if all characters in the string are alpha-numeric and\n",
      " |      there is at least one character in the string.\n",
      " |  \n",
      " |  isalpha(self, /)\n",
      " |      Return True if the string is an alphabetic string, False otherwise.\n",
      " |      \n",
      " |      A string is alphabetic if all characters in the string are alphabetic and there\n",
      " |      is at least one character in the string.\n",
      " |  \n",
      " |  isascii(self, /)\n",
      " |      Return True if all characters in the string are ASCII, False otherwise.\n",
      " |      \n",
      " |      ASCII characters have code points in the range U+0000-U+007F.\n",
      " |      Empty string is ASCII too.\n",
      " |  \n",
      " |  isdecimal(self, /)\n",
      " |      Return True if the string is a decimal string, False otherwise.\n",
      " |      \n",
      " |      A string is a decimal string if all characters in the string are decimal and\n",
      " |      there is at least one character in the string.\n",
      " |  \n",
      " |  isdigit(self, /)\n",
      " |      Return True if the string is a digit string, False otherwise.\n",
      " |      \n",
      " |      A string is a digit string if all characters in the string are digits and there\n",
      " |      is at least one character in the string.\n",
      " |  \n",
      " |  isidentifier(self, /)\n",
      " |      Return True if the string is a valid Python identifier, False otherwise.\n",
      " |      \n",
      " |      Use keyword.iskeyword() to test for reserved identifiers such as \"def\" and\n",
      " |      \"class\".\n",
      " |  \n",
      " |  islower(self, /)\n",
      " |      Return True if the string is a lowercase string, False otherwise.\n",
      " |      \n",
      " |      A string is lowercase if all cased characters in the string are lowercase and\n",
      " |      there is at least one cased character in the string.\n",
      " |  \n",
      " |  isnumeric(self, /)\n",
      " |      Return True if the string is a numeric string, False otherwise.\n",
      " |      \n",
      " |      A string is numeric if all characters in the string are numeric and there is at\n",
      " |      least one character in the string.\n",
      " |  \n",
      " |  isprintable(self, /)\n",
      " |      Return True if the string is printable, False otherwise.\n",
      " |      \n",
      " |      A string is printable if all of its characters are considered printable in\n",
      " |      repr() or if it is empty.\n",
      " |  \n",
      " |  isspace(self, /)\n",
      " |      Return True if the string is a whitespace string, False otherwise.\n",
      " |      \n",
      " |      A string is whitespace if all characters in the string are whitespace and there\n",
      " |      is at least one character in the string.\n",
      " |  \n",
      " |  istitle(self, /)\n",
      " |      Return True if the string is a title-cased string, False otherwise.\n",
      " |      \n",
      " |      In a title-cased string, upper- and title-case characters may only\n",
      " |      follow uncased characters and lowercase characters only cased ones.\n",
      " |  \n",
      " |  isupper(self, /)\n",
      " |      Return True if the string is an uppercase string, False otherwise.\n",
      " |      \n",
      " |      A string is uppercase if all cased characters in the string are uppercase and\n",
      " |      there is at least one cased character in the string.\n",
      " |  \n",
      " |  join(self, iterable, /)\n",
      " |      Concatenate any number of strings.\n",
      " |      \n",
      " |      The string whose method is called is inserted in between each given string.\n",
      " |      The result is returned as a new string.\n",
      " |      \n",
      " |      Example: '.'.join(['ab', 'pq', 'rs']) -> 'ab.pq.rs'\n",
      " |  \n",
      " |  ljust(self, width, fillchar=' ', /)\n",
      " |      Return a left-justified string of length width.\n",
      " |      \n",
      " |      Padding is done using the specified fill character (default is a space).\n",
      " |  \n",
      " |  lower(self, /)\n",
      " |      Return a copy of the string converted to lowercase.\n",
      " |  \n",
      " |  lstrip(self, chars=None, /)\n",
      " |      Return a copy of the string with leading whitespace removed.\n",
      " |      \n",
      " |      If chars is given and not None, remove characters in chars instead.\n",
      " |  \n",
      " |  partition(self, sep, /)\n",
      " |      Partition the string into three parts using the given separator.\n",
      " |      \n",
      " |      This will search for the separator in the string.  If the separator is found,\n",
      " |      returns a 3-tuple containing the part before the separator, the separator\n",
      " |      itself, and the part after it.\n",
      " |      \n",
      " |      If the separator is not found, returns a 3-tuple containing the original string\n",
      " |      and two empty strings.\n",
      " |  \n",
      " |  replace(self, old, new, count=-1, /)\n",
      " |      Return a copy with all occurrences of substring old replaced by new.\n",
      " |      \n",
      " |        count\n",
      " |          Maximum number of occurrences to replace.\n",
      " |          -1 (the default value) means replace all occurrences.\n",
      " |      \n",
      " |      If the optional argument count is given, only the first count occurrences are\n",
      " |      replaced.\n",
      " |  \n",
      " |  rfind(...)\n",
      " |      S.rfind(sub[, start[, end]]) -> int\n",
      " |      \n",
      " |      Return the highest index in S where substring sub is found,\n",
      " |      such that sub is contained within S[start:end].  Optional\n",
      " |      arguments start and end are interpreted as in slice notation.\n",
      " |      \n",
      " |      Return -1 on failure.\n",
      " |  \n",
      " |  rindex(...)\n",
      " |      S.rindex(sub[, start[, end]]) -> int\n",
      " |      \n",
      " |      Return the highest index in S where substring sub is found,\n",
      " |      such that sub is contained within S[start:end].  Optional\n",
      " |      arguments start and end are interpreted as in slice notation.\n",
      " |      \n",
      " |      Raises ValueError when the substring is not found.\n",
      " |  \n",
      " |  rjust(self, width, fillchar=' ', /)\n",
      " |      Return a right-justified string of length width.\n",
      " |      \n",
      " |      Padding is done using the specified fill character (default is a space).\n",
      " |  \n",
      " |  rpartition(self, sep, /)\n",
      " |      Partition the string into three parts using the given separator.\n",
      " |      \n",
      " |      This will search for the separator in the string, starting at the end. If\n",
      " |      the separator is found, returns a 3-tuple containing the part before the\n",
      " |      separator, the separator itself, and the part after it.\n",
      " |      \n",
      " |      If the separator is not found, returns a 3-tuple containing two empty strings\n",
      " |      and the original string.\n",
      " |  \n",
      " |  rsplit(self, /, sep=None, maxsplit=-1)\n",
      " |      Return a list of the words in the string, using sep as the delimiter string.\n",
      " |      \n",
      " |        sep\n",
      " |          The delimiter according which to split the string.\n",
      " |          None (the default value) means split according to any whitespace,\n",
      " |          and discard empty strings from the result.\n",
      " |        maxsplit\n",
      " |          Maximum number of splits to do.\n",
      " |          -1 (the default value) means no limit.\n",
      " |      \n",
      " |      Splits are done starting at the end of the string and working to the front.\n",
      " |  \n",
      " |  rstrip(self, chars=None, /)\n",
      " |      Return a copy of the string with trailing whitespace removed.\n",
      " |      \n",
      " |      If chars is given and not None, remove characters in chars instead.\n",
      " |  \n",
      " |  split(self, /, sep=None, maxsplit=-1)\n",
      " |      Return a list of the words in the string, using sep as the delimiter string.\n",
      " |      \n",
      " |      sep\n",
      " |        The delimiter according which to split the string.\n",
      " |        None (the default value) means split according to any whitespace,\n",
      " |        and discard empty strings from the result.\n",
      " |      maxsplit\n",
      " |        Maximum number of splits to do.\n",
      " |        -1 (the default value) means no limit.\n",
      " |  \n",
      " |  splitlines(self, /, keepends=False)\n",
      " |      Return a list of the lines in the string, breaking at line boundaries.\n",
      " |      \n",
      " |      Line breaks are not included in the resulting list unless keepends is given and\n",
      " |      true.\n",
      " |  \n",
      " |  startswith(...)\n",
      " |      S.startswith(prefix[, start[, end]]) -> bool\n",
      " |      \n",
      " |      Return True if S starts with the specified prefix, False otherwise.\n",
      " |      With optional start, test S beginning at that position.\n",
      " |      With optional end, stop comparing S at that position.\n",
      " |      prefix can also be a tuple of strings to try.\n",
      " |  \n",
      " |  strip(self, chars=None, /)\n",
      " |      Return a copy of the string with leading and trailing whitespace removed.\n",
      " |      \n",
      " |      If chars is given and not None, remove characters in chars instead.\n",
      " |  \n",
      " |  swapcase(self, /)\n",
      " |      Convert uppercase characters to lowercase and lowercase characters to uppercase.\n",
      " |  \n",
      " |  title(self, /)\n",
      " |      Return a version of the string where each word is titlecased.\n",
      " |      \n",
      " |      More specifically, words start with uppercased characters and all remaining\n",
      " |      cased characters have lower case.\n",
      " |  \n",
      " |  translate(self, table, /)\n",
      " |      Replace each character in the string using the given translation table.\n",
      " |      \n",
      " |        table\n",
      " |          Translation table, which must be a mapping of Unicode ordinals to\n",
      " |          Unicode ordinals, strings, or None.\n",
      " |      \n",
      " |      The table must implement lookup/indexing via __getitem__, for instance a\n",
      " |      dictionary or list.  If this operation raises LookupError, the character is\n",
      " |      left untouched.  Characters mapped to None are deleted.\n",
      " |  \n",
      " |  upper(self, /)\n",
      " |      Return a copy of the string converted to uppercase.\n",
      " |  \n",
      " |  zfill(self, width, /)\n",
      " |      Pad a numeric string with zeros on the left, to fill a field of the given width.\n",
      " |      \n",
      " |      The string is never truncated.\n",
      " |  \n",
      " |  ----------------------------------------------------------------------\n",
      " |  Static methods defined here:\n",
      " |  \n",
      " |  __new__(*args, **kwargs) from builtins.type\n",
      " |      Create and return a new object.  See help(type) for accurate signature.\n",
      " |  \n",
      " |  maketrans(x, y=None, z=None, /)\n",
      " |      Return a translation table usable for str.translate().\n",
      " |      \n",
      " |      If there is only one argument, it must be a dictionary mapping Unicode\n",
      " |      ordinals (integers) or characters to Unicode ordinals, strings or None.\n",
      " |      Character keys will be then converted to ordinals.\n",
      " |      If there are two arguments, they must be strings of equal length, and\n",
      " |      in the resulting dictionary, each character in x will be mapped to the\n",
      " |      character at the same position in y. If there is a third argument, it\n",
      " |      must be a string, whose characters will be mapped to None in the result.\n",
      "\n",
      "None\n"
     ]
    }
   ],
   "source": [
    "# Check all the methods available to a variable\n",
    "# print(dir(sentence))\n",
    "#Help function \n",
    "print(help(str))"
   ]
  },
  {
   "cell_type": "code",
   "execution_count": 50,
   "metadata": {},
   "outputs": [
    {
     "name": "stdout",
     "output_type": "stream",
     "text": [
      "Help on method_descriptor:\n",
      "\n",
      "lower(self, /)\n",
      "    Return a copy of the string converted to lowercase.\n",
      "\n",
      "None\n"
     ]
    }
   ],
   "source": [
    "# Check what the metod does \n",
    "print(help(str.lower))"
   ]
  },
  {
   "cell_type": "markdown",
   "metadata": {},
   "source": [
    "## Working with Numbers "
   ]
  },
  {
   "cell_type": "code",
   "execution_count": null,
   "metadata": {},
   "outputs": [],
   "source": [
    "# Arithmetic Operators:\n",
    "# Addition:       3 + 2\n",
    "# Subtraction:    3 - 2\n",
    "# Multiplication: 3 * 2\n",
    "# Division:       3 / 2\n",
    "# Floor Division: 3 // 2\n",
    "# Exponent:       3 ** 2\n",
    "# Modulus:        3 % 2\n",
    "\n",
    "\n",
    "# Comparisons:\n",
    "# Equal:            3 == 2\n",
    "# Not Equal:        3 != 2\n",
    "# Greater Than:     3 > 2\n",
    "# Less Than:        3 < 2\n",
    "# Greater or Equal: 3 >= 2\n",
    "# Less or Equal:    3 <= 2\n",
    "\n",
    "# += \n",
    "# abs(-3) - absolute \n",
    "# round(3.75, 1) - 1st digit \n",
    "# casting \n",
    "# num_1 = int(num_1)\n"
   ]
  },
  {
   "cell_type": "markdown",
   "metadata": {},
   "source": [
    "## List, Tuples, Sets "
   ]
  },
  {
   "cell_type": "code",
   "execution_count": null,
   "metadata": {},
   "outputs": [],
   "source": [
    "#courses.extend(courses_2,0)\n",
    "#courses.include('math', 0)\n",
    "\n",
    "#courses.pop()\n",
    "#courses.remove('math')\n",
    "#courses.reverse()\n",
    "#courses.sort(reverse=True)\n",
    "#sorted(courses) # sorted version, doesn't alter the original\n",
    "# min(num), max(num), sum(num)\n",
    "# courses.index('Art')\n",
    "# ()'Art' in courses)\n",
    "\n",
    "# for item in courses: \n",
    "#     print(item)\n",
    "# enumerate \n",
    "\n",
    "# for index, item in enumerate(courses, index=1): \n",
    "#     print(item)\n",
    "\n",
    "# Join the list with ','\n",
    "# course_str = ','.join(courses)\n",
    "# Make a list from the split \n",
    "# course_str = course_string.split(',')"
   ]
  },
  {
   "cell_type": "code",
   "execution_count": 53,
   "metadata": {},
   "outputs": [
    {
     "name": "stdout",
     "output_type": "stream",
     "text": [
      "['History', 'Math', 'Physics', 'CompSci']\n",
      "['History', 'Math', 'Physics', 'CompSci']\n",
      "{'Physics', 'History', 'Math', 'CompSci'}\n"
     ]
    }
   ],
   "source": [
    "#Tuples \n",
    "# Cannot be manipulated after being created \n",
    "# Used for constants \n",
    "# tuple_1 = ('History', 'MIke')\n",
    "# Tuples are immutable. \n",
    "\n",
    "# Sets \n",
    "# Sets don't care about order, and they throw away duplicates. \n",
    "\n",
    "\n",
    "# .intersection()\n",
    "# .diffferce \n",
    "# science_course.union(art_couse)\n",
    "\n",
    "# Mutable\n",
    "list_1 = ['History', 'Math', 'Physics', 'CompSci']\n",
    "list_2 = list_1\n",
    "\n",
    "print(list_1)\n",
    "print(list_2)\n",
    "\n",
    "# list_1[0] = 'Art'\n",
    "\n",
    "# print(list_1)\n",
    "# print(list_2)\n",
    "\n",
    "\n",
    "# Immutable\n",
    "# tuple_1 = ('History', 'Math', 'Physics', 'CompSci')\n",
    "# tuple_2 = tuple_1\n",
    "\n",
    "# print(tuple_1)\n",
    "# print(tuple_2)\n",
    "\n",
    "# tuple_1[0] = 'Art'\n",
    "\n",
    "# print(tuple_1)\n",
    "# print(tuple_2)\n",
    "\n",
    "# Sets\n",
    "cs_courses = {'History', 'Math', 'Physics', 'CompSci'}\n",
    "\n",
    "print(cs_courses)\n",
    "\n",
    "\n",
    "# Empty Lists\n",
    "empty_list = []\n",
    "empty_list = list()\n",
    "\n",
    "# Empty Tuples\n",
    "empty_tuple = ()\n",
    "empty_tuple = tuple()\n",
    "\n",
    "# Empty Sets\n",
    "empty_set = {} # This isn't right! It's a dict\n",
    "empty_set = set()\n"
   ]
  },
  {
   "cell_type": "markdown",
   "metadata": {},
   "source": [
    "## Dictionary \n",
    "Key value pairs "
   ]
  },
  {
   "cell_type": "code",
   "execution_count": 67,
   "metadata": {},
   "outputs": [
    {
     "name": "stdout",
     "output_type": "stream",
     "text": [
      "name John\n",
      "age 25\n",
      "courses ['Math', 'CompSci']\n",
      "Not found\n",
      "3\n",
      "dict_keys(['name', 'courses', 'phone'])\n",
      "dict_items([('name', 'Mike'), ('courses', ['Math', 'CompSci']), ('phone', '555')])\n"
     ]
    }
   ],
   "source": [
    "student = {'name': 'John', 'age': 25, 'courses': ['Math', 'CompSci']}\n",
    "\n",
    "\n",
    "    \n",
    "print(student.get('phone', 'Not found'))\n",
    "student['phone'] = '555'\n",
    "student.update({'name':'Mike'})\n",
    "del student['age']\n",
    "print(len(student))\n",
    "print(student.keys())\n",
    "print(student.items())\n",
    "\n",
    "# keys and value \n",
    "for  key, value in student.items(): \n",
    "    print(key,value)"
   ]
  },
  {
   "cell_type": "markdown",
   "metadata": {},
   "source": [
    "## Conditionals "
   ]
  },
  {
   "cell_type": "code",
   "execution_count": 68,
   "metadata": {},
   "outputs": [
    {
     "name": "stdout",
     "output_type": "stream",
     "text": [
      "Java\n"
     ]
    }
   ],
   "source": [
    "lang = 'Java'\n",
    "\n",
    "if lang  == 'Python':\n",
    "    print ('Python')\n",
    "elif lang == 'Java':\n",
    "    print ('Java')\n",
    "else: \n",
    "    print('No match')"
   ]
  },
  {
   "cell_type": "code",
   "execution_count": 80,
   "metadata": {},
   "outputs": [
    {
     "name": "stdout",
     "output_type": "stream",
     "text": [
      "bad credentials \n"
     ]
    }
   ],
   "source": [
    "user = 'Admin'\n",
    "logged_in = 'True'\n",
    "\n",
    "if user == 'Admin' and logged_in == True:\n",
    "    print('yes')\n",
    "elif user == 'Admin' and logged_in == False: \n",
    "    print('wrong log')\n",
    "else:\n",
    "    print ('bad credentials ')\n",
    "    \n",
    "    \n",
    "# if not logged in: \n",
    "    print('yes')\n"
   ]
  },
  {
   "cell_type": "code",
   "execution_count": 83,
   "metadata": {},
   "outputs": [
    {
     "name": "stdout",
     "output_type": "stream",
     "text": [
      "False\n",
      "True\n"
     ]
    }
   ],
   "source": [
    "a = [1,2,3]\n",
    "b = [1,2,3]\n",
    "print(a is b)\n",
    "print(a==b)\n",
    "# is checks if its the same id"
   ]
  },
  {
   "cell_type": "code",
   "execution_count": 124,
   "metadata": {},
   "outputs": [
    {
     "name": "stdout",
     "output_type": "stream",
     "text": [
      "1 a d\n",
      "1 b d\n",
      "1 c d\n",
      "2 a d\n",
      "2 b d\n",
      "2 c d\n",
      "3 a d\n",
      "3 b d\n",
      "3 c d\n",
      "4 a d\n",
      "4 b d\n",
      "4 c d\n",
      "5 a d\n",
      "5 b d\n",
      "5 c d\n"
     ]
    }
   ],
   "source": [
    "## While loops \n",
    "num = [1,2,3,4,5]\n",
    "\n",
    "#using break statement\n",
    "# for i in num: \n",
    "#     if i == 3:\n",
    "#         print('Found')\n",
    "#         continue\n",
    "#     print(i)\n",
    "# #         print('ound')\n",
    "      \n",
    "# for i in num: \n",
    "#     if i == 3: \n",
    "#         print('found')\n",
    "#         break\n",
    "       \n",
    "#     print(i)\n",
    "\n",
    "\n",
    "for i in num:\n",
    "     for letter in 'abc':\n",
    "#             for d in 'bcd':\n",
    "                print(i, letter, d)\n",
    "        \n",
    "        "
   ]
  },
  {
   "cell_type": "code",
   "execution_count": 125,
   "metadata": {},
   "outputs": [
    {
     "name": "stdout",
     "output_type": "stream",
     "text": [
      "1\n",
      "2\n",
      "3\n",
      "4\n",
      "5\n",
      "6\n",
      "7\n",
      "8\n",
      "9\n",
      "10\n"
     ]
    }
   ],
   "source": [
    "for i in range(1,11):\n",
    "    print(i)"
   ]
  },
  {
   "cell_type": "code",
   "execution_count": 126,
   "metadata": {},
   "outputs": [],
   "source": [
    "# Avoid while loops if possible \n"
   ]
  },
  {
   "cell_type": "markdown",
   "metadata": {},
   "source": [
    "## Functions "
   ]
  },
  {
   "cell_type": "code",
   "execution_count": 132,
   "metadata": {},
   "outputs": [],
   "source": [
    "def hello_func(): \n",
    "    x = 'make'\n",
    "    k = 'len'\n",
    "    return x,k\n",
    "     "
   ]
  },
  {
   "cell_type": "code",
   "execution_count": 140,
   "metadata": {},
   "outputs": [
    {
     "name": "stdout",
     "output_type": "stream",
     "text": [
      "('Math', 'Art')\n",
      "{'name': 'John'}\n"
     ]
    }
   ],
   "source": [
    "# Define functions with arguments and key word arguments \n",
    "\n",
    "def info(*args, **kwargs):\n",
    "    print(args)\n",
    "    print(kwargs)\n",
    "info('Math', 'Art', name='John')"
   ]
  },
  {
   "cell_type": "code",
   "execution_count": 145,
   "metadata": {},
   "outputs": [
    {
     "name": "stdout",
     "output_type": "stream",
     "text": [
      "(['Math', 'Chem'], {'first': 'thermo', 'second': 'chem'}) {}\n"
     ]
    }
   ],
   "source": [
    "courses = ['Math', 'Chem']\n",
    "info    = {'first': 'thermo', 'second':'chem'}\n",
    "\n",
    "def printcourse(*course, **info):\n",
    "    print(course, info)\n",
    "printcourse(courses, info)"
   ]
  },
  {
   "cell_type": "code",
   "execution_count": 150,
   "metadata": {},
   "outputs": [
    {
     "name": "stdout",
     "output_type": "stream",
     "text": [
      "28\n"
     ]
    }
   ],
   "source": [
    "# Number of days per month. First value placeholder for indexing purposes.\n",
    "month_days = [0, 31, 28, 31, 30, 31, 30, 31, 31, 30, 31, 30, 31]\n",
    "\n",
    "\n",
    "def is_leap(year):\n",
    "    \"\"\"Return True for leap years, False for non-leap years.\"\"\"\n",
    "\n",
    "    return year % 4 == 0 and (year % 100 != 0 or year % 400 == 0)\n",
    "\n",
    "\n",
    "def days_in_month(year, month):\n",
    "    \"\"\"Return number of days in that month in that year.\"\"\"\n",
    "\n",
    "    # year 2017\n",
    "    # month 2\n",
    "    if not 1 <= month <= 12:\n",
    "        return 'Invalid Month'\n",
    "\n",
    "    if month == 2 and is_leap(year):\n",
    "        return 29\n",
    "\n",
    "    return month_days[month]\n",
    "\n",
    " \n",
    "print(days_in_month(2017, 2))"
   ]
  },
  {
   "cell_type": "code",
   "execution_count": 151,
   "metadata": {},
   "outputs": [],
   "source": [
    "import  sys"
   ]
  },
  {
   "cell_type": "code",
   "execution_count": 154,
   "metadata": {},
   "outputs": [
    {
     "name": "stdout",
     "output_type": "stream",
     "text": [
      "['/Users/user/Documents/programming/Machine_Learning/DeepL_NN/python_tutorials', '/Users/user/opt/anaconda3/envs/Rnew/lib/python37.zip', '/Users/user/opt/anaconda3/envs/Rnew/lib/python3.7', '/Users/user/opt/anaconda3/envs/Rnew/lib/python3.7/lib-dynload', '', '/Users/user/opt/anaconda3/envs/Rnew/lib/python3.7/site-packages', '/Users/user/opt/anaconda3/envs/Rnew/lib/python3.7/site-packages/IPython/extensions', '/Users/user/.ipython']\n"
     ]
    }
   ],
   "source": [
    "# Locations where python imports modules  \n",
    "print(sys.path)\n",
    "# Add desktop to modules path \n",
    "## sys.path.append('path')\n",
    "# Its better to change the enviroinmental variable \n",
    "# \n",
    "# nano ~/.bash_profile\n",
    "# alias python=python3\n",
    "# export PYTHONPATH=\"/Users/...\""
   ]
  },
  {
   "cell_type": "code",
   "execution_count": 156,
   "metadata": {},
   "outputs": [
    {
     "name": "stdout",
     "output_type": "stream",
     "text": [
      "Math\n"
     ]
    }
   ],
   "source": [
    "import random \n",
    "random_course=random.choice(courses)\n",
    "print(random_course)"
   ]
  },
  {
   "cell_type": "code",
   "execution_count": 170,
   "metadata": {},
   "outputs": [
    {
     "name": "stdout",
     "output_type": "stream",
     "text": [
      "/Users/user/Documents/programming/Machine_Learning/DeepL_NN/python_tutorials\n",
      "/Users/user/opt/anaconda3/envs/Rnew/lib/python3.7/lib-dynload/math.cpython-37m-darwin.so\n",
      "/Users/user/opt/anaconda3/envs/Rnew/lib/python3.7/os.py\n"
     ]
    }
   ],
   "source": [
    "import math \n",
    "rads = math.radians(90)\n",
    "import datetime\n",
    "# import calender\n",
    "# today = datatime.today()\n",
    "# print(today)\n",
    "import os \n",
    "# access to underlying operating system.\n",
    "print(os.getcwd())\n",
    "#check location of module \n",
    "print(math.__file__)\n",
    "print(os.__file__)\n"
   ]
  },
  {
   "cell_type": "code",
   "execution_count": 175,
   "metadata": {},
   "outputs": [
    {
     "name": "stdout",
     "output_type": "stream",
     "text": [
      "['__doc__', '__file__', '__loader__', '__name__', '__package__', '__spec__', 'acos', 'acosh', 'asin', 'asinh', 'atan', 'atan2', 'atanh', 'ceil', 'copysign', 'cos', 'cosh', 'degrees', 'e', 'erf', 'erfc', 'exp', 'expm1', 'fabs', 'factorial', 'floor', 'fmod', 'frexp', 'fsum', 'gamma', 'gcd', 'hypot', 'inf', 'isclose', 'isfinite', 'isinf', 'isnan', 'ldexp', 'lgamma', 'log', 'log10', 'log1p', 'log2', 'modf', 'nan', 'pi', 'pow', 'radians', 'remainder', 'sin', 'sinh', 'sqrt', 'tan', 'tanh', 'tau', 'trunc']\n",
      "['CLD_CONTINUED', 'CLD_DUMPED', 'CLD_EXITED', 'CLD_TRAPPED', 'DirEntry', 'EX_CANTCREAT', 'EX_CONFIG', 'EX_DATAERR', 'EX_IOERR', 'EX_NOHOST', 'EX_NOINPUT', 'EX_NOPERM', 'EX_NOUSER', 'EX_OK', 'EX_OSERR', 'EX_OSFILE', 'EX_PROTOCOL', 'EX_SOFTWARE', 'EX_TEMPFAIL', 'EX_UNAVAILABLE', 'EX_USAGE', 'F_LOCK', 'F_OK', 'F_TEST', 'F_TLOCK', 'F_ULOCK', 'MutableMapping', 'NGROUPS_MAX', 'O_ACCMODE', 'O_APPEND', 'O_ASYNC', 'O_CLOEXEC', 'O_CREAT', 'O_DIRECTORY', 'O_DSYNC', 'O_EXCL', 'O_EXLOCK', 'O_NDELAY', 'O_NOCTTY', 'O_NOFOLLOW', 'O_NONBLOCK', 'O_RDONLY', 'O_RDWR', 'O_SHLOCK', 'O_SYNC', 'O_TRUNC', 'O_WRONLY', 'PRIO_PGRP', 'PRIO_PROCESS', 'PRIO_USER', 'P_ALL', 'P_NOWAIT', 'P_NOWAITO', 'P_PGID', 'P_PID', 'P_WAIT', 'PathLike', 'RTLD_GLOBAL', 'RTLD_LAZY', 'RTLD_LOCAL', 'RTLD_NODELETE', 'RTLD_NOLOAD', 'RTLD_NOW', 'R_OK', 'SCHED_FIFO', 'SCHED_OTHER', 'SCHED_RR', 'SEEK_CUR', 'SEEK_END', 'SEEK_SET', 'ST_NOSUID', 'ST_RDONLY', 'TMP_MAX', 'WCONTINUED', 'WCOREDUMP', 'WEXITED', 'WEXITSTATUS', 'WIFCONTINUED', 'WIFEXITED', 'WIFSIGNALED', 'WIFSTOPPED', 'WNOHANG', 'WNOWAIT', 'WSTOPPED', 'WSTOPSIG', 'WTERMSIG', 'WUNTRACED', 'W_OK', 'X_OK', '_Environ', '__all__', '__builtins__', '__cached__', '__doc__', '__file__', '__loader__', '__name__', '__package__', '__spec__', '_check_methods', '_execvpe', '_exists', '_exit', '_fspath', '_fwalk', '_get_exports_list', '_putenv', '_spawnvef', '_unsetenv', '_wrap_close', 'abc', 'abort', 'access', 'altsep', 'chdir', 'chflags', 'chmod', 'chown', 'chroot', 'close', 'closerange', 'confstr', 'confstr_names', 'cpu_count', 'ctermid', 'curdir', 'defpath', 'device_encoding', 'devnull', 'dup', 'dup2', 'environ', 'environb', 'error', 'execl', 'execle', 'execlp', 'execlpe', 'execv', 'execve', 'execvp', 'execvpe', 'extsep', 'fchdir', 'fchmod', 'fchown', 'fdopen', 'fork', 'forkpty', 'fpathconf', 'fsdecode', 'fsencode', 'fspath', 'fstat', 'fstatvfs', 'fsync', 'ftruncate', 'fwalk', 'get_blocking', 'get_exec_path', 'get_inheritable', 'get_terminal_size', 'getcwd', 'getcwdb', 'getegid', 'getenv', 'getenvb', 'geteuid', 'getgid', 'getgrouplist', 'getgroups', 'getloadavg', 'getlogin', 'getpgid', 'getpgrp', 'getpid', 'getppid', 'getpriority', 'getsid', 'getuid', 'initgroups', 'isatty', 'kill', 'killpg', 'lchflags', 'lchmod', 'lchown', 'linesep', 'link', 'listdir', 'lockf', 'lseek', 'lstat', 'major', 'makedev', 'makedirs', 'minor', 'mkdir', 'mkfifo', 'mknod', 'name', 'nice', 'open', 'openpty', 'pardir', 'path', 'pathconf', 'pathconf_names', 'pathsep', 'pipe', 'popen', 'pread', 'putenv', 'pwrite', 'read', 'readlink', 'readv', 'register_at_fork', 'remove', 'removedirs', 'rename', 'renames', 'replace', 'rmdir', 'scandir', 'sched_get_priority_max', 'sched_get_priority_min', 'sched_yield', 'sendfile', 'sep', 'set_blocking', 'set_inheritable', 'setegid', 'seteuid', 'setgid', 'setgroups', 'setpgid', 'setpgrp', 'setpriority', 'setregid', 'setreuid', 'setsid', 'setuid', 'spawnl', 'spawnle', 'spawnlp', 'spawnlpe', 'spawnv', 'spawnve', 'spawnvp', 'spawnvpe', 'st', 'stat', 'stat_result', 'statvfs', 'statvfs_result', 'strerror', 'supports_bytes_environ', 'supports_dir_fd', 'supports_effective_ids', 'supports_fd', 'supports_follow_symlinks', 'symlink', 'sync', 'sys', 'sysconf', 'sysconf_names', 'system', 'tcgetpgrp', 'tcsetpgrp', 'terminal_size', 'times', 'times_result', 'truncate', 'ttyname', 'umask', 'uname', 'uname_result', 'unlink', 'unsetenv', 'urandom', 'utime', 'wait', 'wait3', 'wait4', 'waitpid', 'walk', 'write', 'writev']\n"
     ]
    }
   ],
   "source": [
    "import os \n",
    "# shows the methods availiabe to the module \n",
    "print(dir(math))\n",
    "print(dir(os))"
   ]
  },
  {
   "cell_type": "code",
   "execution_count": 186,
   "metadata": {},
   "outputs": [
    {
     "name": "stdout",
     "output_type": "stream",
     "text": [
      "['.ipynb_checkpoints', 'Python_tutorials.ipynb']\n",
      "/Users/user/Documents/programming/Machine_Learning/DeepL_NN/python_tutorials\n",
      "Directory path /Users/user/Documents/programming/Machine_Learning/DeepL_NN/python_tutorials\n",
      "Directorname ['.ipynb_checkpoints']\n",
      "Filename ['Python_tutorials.ipynb']\n",
      "\n",
      "Directory path /Users/user/Documents/programming/Machine_Learning/DeepL_NN/python_tutorials/.ipynb_checkpoints\n",
      "Directorname []\n",
      "Filename ['Python_tutorials-checkpoint.ipynb']\n",
      "\n"
     ]
    }
   ],
   "source": [
    "print(os.listdir())\n",
    "print(os.getcwd())\n",
    "# os.chdir('')\n",
    "# os.mkdir('')\n",
    "# os.makedirs('OS-Demo-2.')\n",
    "\n",
    "# os.rmdir()\n",
    "# os.removedirs()\n",
    "# os.rename('text.txt','demo.txt')\n",
    "# os.stat('demo.txt')\n",
    "# os.walk()\n",
    "for dirpath, dirnames, filenames in os.walk('/Users/user/Documents/programming/Machine_Learning/DeepL_NN/python_tutorials'):\n",
    "    print(f'Directory path {dirpath}')\n",
    "    print(f'Directorname {dirnames}')\n",
    "    print(f'Filename {filenames}')\n",
    "    print()"
   ]
  },
  {
   "cell_type": "code",
   "execution_count": 187,
   "metadata": {},
   "outputs": [
    {
     "name": "stdout",
     "output_type": "stream",
     "text": [
      "/Users/user\n"
     ]
    }
   ],
   "source": [
    "print(os.environ.get('HOME'))"
   ]
  },
  {
   "cell_type": "code",
   "execution_count": 188,
   "metadata": {},
   "outputs": [],
   "source": [
    "# file_path = os.path.join(os.environ.get('HOME'), 'test.txt')\n",
    "# print(file_path)"
   ]
  },
  {
   "cell_type": "code",
   "execution_count": 192,
   "metadata": {},
   "outputs": [
    {
     "name": "stdout",
     "output_type": "stream",
     "text": [
      "/tmp\n",
      "False\n",
      "('/tmp/test', '.txt')\n",
      "['__all__', '__builtins__', '__cached__', '__doc__', '__file__', '__loader__', '__name__', '__package__', '__spec__', '_get_sep', '_joinrealpath', '_varprog', '_varprogb', 'abspath', 'altsep', 'basename', 'commonpath', 'commonprefix', 'curdir', 'defpath', 'devnull', 'dirname', 'exists', 'expanduser', 'expandvars', 'extsep', 'genericpath', 'getatime', 'getctime', 'getmtime', 'getsize', 'isabs', 'isdir', 'isfile', 'islink', 'ismount', 'join', 'lexists', 'normcase', 'normpath', 'os', 'pardir', 'pathsep', 'realpath', 'relpath', 'samefile', 'sameopenfile', 'samestat', 'sep', 'split', 'splitdrive', 'splitext', 'stat', 'supports_unicode_filenames', 'sys']\n"
     ]
    }
   ],
   "source": [
    "print(os.path.dirname('/tmp/test.txt'))\n",
    "print(os.path.exists('/tmp/test.txt'))\n",
    "print(os.path.splitext('/tmp/test.txt'))\n",
    "# takes out the exension\n",
    "print(dir(os.path))\n"
   ]
  },
  {
   "cell_type": "markdown",
   "metadata": {},
   "source": [
    "## Reading and Writing into Files "
   ]
  },
  {
   "cell_type": "code",
   "execution_count": null,
   "metadata": {},
   "outputs": [],
   "source": [
    "# f = open('test.txt', 'r')\n",
    "# f = open('test.txt', 'w')\n",
    "# f = open('test.txt', 'r+w')\n",
    "# f.close()\n",
    "\n",
    "# Better to work with a context manager for files\n",
    "# closes the file automaticallyy \n",
    "# with open('test.txt', 'r') as f:\n",
    "#     pass\n",
    "\n",
    "\n",
    "# with open('test.txt','r') as f:\n",
    "    for line in f: \n",
    "        print(line, end='')\n",
    "#     f_contents = f.readline()\n",
    "#     print(f_contents,end='')\n",
    "    \n",
    "#     f_contents = f.readline()"
   ]
  },
  {
   "cell_type": "code",
   "execution_count": 207,
   "metadata": {},
   "outputs": [],
   "source": [
    "# Creates the file and writes to it \n",
    "\n",
    "with open('test2.txt', 'w') as f:\n",
    "    f.write('Test')\n",
    "    f.write('test2')\n",
    "    f.write('Yesh')"
   ]
  },
  {
   "cell_type": "code",
   "execution_count": 209,
   "metadata": {},
   "outputs": [
    {
     "data": {
      "text/html": [
       "<div>\n",
       "<style scoped>\n",
       "    .dataframe tbody tr th:only-of-type {\n",
       "        vertical-align: middle;\n",
       "    }\n",
       "\n",
       "    .dataframe tbody tr th {\n",
       "        vertical-align: top;\n",
       "    }\n",
       "\n",
       "    .dataframe thead th {\n",
       "        text-align: right;\n",
       "    }\n",
       "</style>\n",
       "<table border=\"1\" class=\"dataframe\">\n",
       "  <thead>\n",
       "    <tr style=\"text-align: right;\">\n",
       "      <th></th>\n",
       "      <th>Testtest2Yesh</th>\n",
       "    </tr>\n",
       "  </thead>\n",
       "  <tbody>\n",
       "  </tbody>\n",
       "</table>\n",
       "</div>"
      ],
      "text/plain": [
       "Empty DataFrame\n",
       "Columns: [Testtest2Yesh]\n",
       "Index: []"
      ]
     },
     "execution_count": 209,
     "metadata": {},
     "output_type": "execute_result"
    }
   ],
   "source": [
    "import pandas as pd \n",
    "file = pd.read_csv('test1.txt')\n",
    "file"
   ]
  },
  {
   "cell_type": "code",
   "execution_count": 211,
   "metadata": {},
   "outputs": [],
   "source": [
    "#copy every line from test2 into text1\n",
    "with open('test2.txt', 'r') as rf: \n",
    "    with open('test1.txt', 'w') as wf:\n",
    "        for line in rf: \n",
    "            wf.write(line)\n",
    "            \n",
    "            \n",
    "#File Objects\n",
    "\n",
    "##The Basics:\n",
    "#f = open(\"test.txt\", \"r\")\n",
    "#f = open(\"test.txt\", \"w\")\n",
    "#f = open(\"test.txt\", \"a\")\n",
    "#f = open(\"test.txt\", \"r+\")\n",
    "#print(f.name)\n",
    "#print(f.mode)\n",
    "#f.close()\n",
    "\n",
    "##Reading Files:\n",
    "#with open(\"test.txt\", \"r\") as f:\n",
    "\t#pass\n",
    "\n",
    "\t##Small Files:\n",
    "\t#f_contents = f.read()\n",
    "\t#print(f_contents)\n",
    "\n",
    "\t##Big Files:\n",
    "\t#f_contents = f.readlines()\n",
    "\t#print(f_contents)\n",
    "\n",
    "    ###With the extra lines:\n",
    "\t#f_contents = f.readline()\n",
    "\t#print(f_contents)\n",
    "\t#f_contents = f.readline()\n",
    "\t#print(f_contents)\n",
    "\n",
    "\t###Without the extra lines:\n",
    "\t#f_contents = f.readline()\n",
    "\t#print(f_contents, end = '')\n",
    "\t#f_contents = f.readline()\n",
    "\t#print(f_contents, end = '')\n",
    "\n",
    "\t###Iterating through the file:\n",
    "\t#for line in f:\n",
    "\t\t#print(line, end = '')\n",
    "\n",
    "\t###Going Back....:\n",
    "\t#f_contents = f.read()\n",
    "\t#print(f_contents, end = '')\n",
    "\n",
    "\t###Printing by characters:\n",
    "\t#f_contents = f.read(100)\n",
    "\t#print(f_contents, end = '')\n",
    "\t#f_contents = f.read(100)\n",
    "\t#print(f_contents, end = '')\n",
    "\t#f_contents = f.read(100)\n",
    "\t#print(f_contents, end = '')\n",
    "\n",
    "\t###Iterating through small chunks:\n",
    "\t#size_to_read = 100\n",
    "\t#f_contents = f.read(size_to_read)\n",
    "\t#while len(f_contents) > 0:\n",
    "\t\t#print(f_contents)\n",
    "\t\t#f_contents = f.read(size_to_read)\n",
    "\n",
    "\t###Iterating through small chunks, with 10 characters:\n",
    "\t#size_to_read = 10\n",
    "\t#f_contents = f.read(size_to_read)\n",
    "\t#print(f_contents, end = '')\n",
    "\t#f.seek(0)\n",
    "\t#f_contents = f.read(size_to_read)\n",
    "\t#print(f_contents, end = '')\n",
    "\t#print(f.tell())\n",
    "\t#while len(f_contents) > 0:\n",
    "\t\t#print(f_contents, end = '*')\n",
    "\t\t#f_contents = f.read(size_to_read)\n",
    "#print(f.mode)\n",
    "#print(f.closed)\n",
    "#print(f.read())\n",
    "\n",
    "\n",
    "##Writing Files:\n",
    "###The Error:\n",
    "#with open(\"test.txt\", \"r\") as f:\n",
    "\t#f.write(\"Test\")\n",
    "\n",
    "###Writing Starts:\n",
    "#with open(\"test2.txt\", \"w\") as f:\n",
    "\t#pass\n",
    "\t#f.write(\"Test\")\n",
    "\t#f.seek(0)\n",
    "\t#f.write(\"Test\")\n",
    "\t#f.seek(\"R\")\n",
    "\n",
    "##Copying Files:\n",
    "#with open(\"test.txt\", \"r\") as rf:\n",
    "\t#with open(\"test_copy.txt\", \"w\") as wf:\n",
    "\t\t#for line in rf:\n",
    "\t\t\t#wf.write(line)\n",
    "\n",
    "#Copying the/your image:\n",
    "###The Error\n",
    "#with open(\"bronx.jpg\", \"r\") as rf:\n",
    "\t#with open(\"bronx_copy.jpg\", \"w\") as wf:\n",
    "\t\t#for line in rf:\n",
    "\t\t\t#wf.write(line)\n",
    "\n",
    "###Copying the image starts, without chunks:\n",
    "#with open(\"bronx.jpg\", \"rb\") as rf:\n",
    "\t#with open(\"bronx_copy.jpg\", \"wb\") as wf:\n",
    "\t\t#for line in rf:\n",
    "\t\t\t#wf.write(line)\n",
    "\n",
    "###Copying the image with chunks:\n",
    "#with open(\"bronx.jpg\", \"rb\") as rf:\n",
    "\t#with open(\"bronx_copy.jpg\", \"wb\") as wf:\n",
    "\t\t#chunk_size = 4096\n",
    "        #rf_chunk = rf.read(chunk_size)\n",
    "        #while len(rf_chunk) > 0:\n",
    "            #wf.write(rf_chunk)\n",
    "            #rf_chunk = rf.read(chunk_size)\n"
   ]
  },
  {
   "cell_type": "code",
   "execution_count": 210,
   "metadata": {},
   "outputs": [],
   "source": [
    "# which python3 \n",
    "# type python3\n",
    "# echo $PATH\n",
    "#/Library/Frameworks/Python.framework/Versions/3.8/bin:\n",
    "#/usr/local/bin:\n",
    "#/usr/bin:/bin:\n",
    "#/usr/sbin:/sbin:\n",
    "#/Applications/VMware Fusion.app/Contents/Public:/Library/TeX/texbin\n"
   ]
  },
  {
   "cell_type": "code",
   "execution_count": 213,
   "metadata": {},
   "outputs": [
    {
     "name": "stdout",
     "output_type": "stream",
     "text": [
      "3.7.7 (default, Mar 23 2020, 17:31:31) \n",
      "[Clang 4.0.1 (tags/RELEASE_401/final)]\n",
      "/Users/user/opt/anaconda3/envs/Rnew/bin/python\n"
     ]
    }
   ],
   "source": [
    "print(sys.version)\n",
    "print(sys.executable)"
   ]
  },
  {
   "cell_type": "markdown",
   "metadata": {},
   "source": [
    "## Automate Parsing and Renaming of Multiple files\n"
   ]
  },
  {
   "cell_type": "code",
   "execution_count": 214,
   "metadata": {},
   "outputs": [],
   "source": [
    "# # Print all the current file names\n",
    "# for f in os.listdir():\n",
    "#     # If .DS_Store file is created, ignore it\n",
    "#     if f == '.DS_Store':\n",
    "#         continue\n",
    "#     # Seperate extension from file name \n",
    "#     file_name, file_ext = os.path.splitext(f)\n",
    "#     # print(file_name)\n",
    "\n",
    "#     # Spilt \n",
    "#     f_title, f_course, f_number = file_name.split('-')\n",
    "\n",
    "#     # print('{}-{}-{}{}'.format(f_number, f_course, f_title, file_ext))\n",
    "\n",
    "#     # trim white spaces\n",
    "#     f_title = f_title.strip()\n",
    "#     f_course = f_course.strip()\n",
    "#     # f_number = f_number.strip()\n",
    "\n",
    "#     # Want to remove the number sign?\n",
    "#     # f_number = f_number.strip()[1:]\n",
    "\n",
    "#     # One thing I noticed about this output is that if it was sorted by filename\n",
    "#     # then the 1 and 10 would be next to each other. How do we fix this? One way we can fix this is to pad\n",
    "#     # the numbers. So instead of 1, we'll make it 01. If we had hundreds of files then this would maybe need to be 001.\n",
    "#     # We can do this in Python with zfill\n",
    "#     f_number = f_number.strip()[1:].zfill(2)\n",
    "\n",
    "#     # print('{}-{}-{}{}'.format(f_number, f_course, f_title, file_ext))\n",
    "\n",
    "#     # You have the power to reformat in any way you see fit\n",
    "#     print('{}-{}{}'.format(f_number, f_title.strip(), file_ext.strip()))\n",
    "\n",
    "#     new_name = '{}-{}{}'.format(file_num, file_title, file_ext)\n",
    "\n",
    "#     os.rename(fn, new_name)\n",
    "\n"
   ]
  },
  {
   "cell_type": "code",
   "execution_count": 215,
   "metadata": {},
   "outputs": [],
   "source": [
    "# with open('names.csv', 'r') as csv_file:\n",
    "#     csv_reader = csv.DictReader(csv_file)\n",
    "\n",
    "#     with open('new_names.csv', 'w') as new_file:\n",
    "#         fieldnames = ['first_name', 'last_name']\n",
    "\n",
    "#         csv_writer = csv.DictWriter(new_file, fieldnames=fieldnames, delimiter='\\t')\n",
    "\n",
    "#         csv_writer.writeheader()\n",
    "\n",
    "#         for line in csv_reader:\n",
    "#             del line['email']\n",
    "#             csv_writer.writerow(line)\n"
   ]
  },
  {
   "cell_type": "code",
   "execution_count": null,
   "metadata": {},
   "outputs": [],
   "source": [
    "# import csv\n",
    "\n",
    "# html_output = ''\n",
    "# names = []\n",
    "\n",
    "# with open('patrons.csv', 'r') as data_file:\n",
    "#     csv_data = csv.DictReader(data_file)\n",
    "\n",
    "#     # We don't want first line of bad data\n",
    "      # Skip the line since it's a header\n",
    "#     next(csv_data)\n",
    "\n",
    "#     for line in csv_data:\n",
    "#         if line['FirstName'] == 'No Reward':\n",
    "#             break\n",
    "#         names.append(f\"{line['FirstName']} {line['LastName']}\")\n",
    "\n",
    "# html_output += f'<p>There are currently {len(names)} public contributors. Thank You!</p>'\n",
    "\n",
    "# html_output += '\\n<ul>'\n",
    "\n",
    "# for name in names:\n",
    "#     html_output += f'\\n\\t<li>{name}</li>'\n",
    "\n",
    "# html_output += '\\n</ul>'\n",
    "\n",
    "# print(html_output)\n"
   ]
  }
 ],
 "metadata": {
  "kernelspec": {
   "display_name": "Python 3",
   "language": "python",
   "name": "python3"
  },
  "language_info": {
   "codemirror_mode": {
    "name": "ipython",
    "version": 3
   },
   "file_extension": ".py",
   "mimetype": "text/x-python",
   "name": "python",
   "nbconvert_exporter": "python",
   "pygments_lexer": "ipython3",
   "version": "3.7.7"
  }
 },
 "nbformat": 4,
 "nbformat_minor": 4
}
